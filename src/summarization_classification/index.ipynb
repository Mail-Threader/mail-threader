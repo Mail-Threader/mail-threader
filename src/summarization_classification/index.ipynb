{
 "cells": [
  {
   "cell_type": "code",
   "id": "initial_id",
   "metadata": {
    "collapsed": true,
    "ExecuteTime": {
     "end_time": "2025-06-11T11:56:46.827186Z",
     "start_time": "2025-06-11T11:56:46.825115Z"
    }
   },
   "source": "import pandas as pd",
   "outputs": [],
   "execution_count": 4
  },
  {
   "metadata": {
    "ExecuteTime": {
     "end_time": "2025-06-11T11:56:46.845742Z",
     "start_time": "2025-06-11T11:56:46.839721Z"
    }
   },
   "cell_type": "code",
   "source": "df = pd.DataFrame(pd.read_json(\"../../output/analysis_results/analysis_results_20250611_135539_v1.json\"))",
   "id": "c380ee3084ce45df",
   "outputs": [],
   "execution_count": 5
  },
  {
   "metadata": {
    "ExecuteTime": {
     "end_time": "2025-06-11T11:56:49.255331Z",
     "start_time": "2025-06-11T11:56:49.236310Z"
    }
   },
   "cell_type": "code",
   "source": "df.head()",
   "id": "93b3468cc3a31695",
   "outputs": [
    {
     "data": {
      "text/plain": [
       "                   metadata                                               data\n",
       "timestamp      2.025061e+13                                                NaN\n",
       "num_documents  9.900000e+01                                                NaN\n",
       "topics                  NaN  {'vectorizer': {'input': 'content', 'encoding'...\n",
       "clusters                NaN  {'vectorizer': {'input': 'content', 'encoding'...\n",
       "entities                NaN  {'PERSON': [['Jeff Dasovich', 3], ['Gary', 3],..."
      ],
      "text/html": [
       "<div>\n",
       "<style scoped>\n",
       "    .dataframe tbody tr th:only-of-type {\n",
       "        vertical-align: middle;\n",
       "    }\n",
       "\n",
       "    .dataframe tbody tr th {\n",
       "        vertical-align: top;\n",
       "    }\n",
       "\n",
       "    .dataframe thead th {\n",
       "        text-align: right;\n",
       "    }\n",
       "</style>\n",
       "<table border=\"1\" class=\"dataframe\">\n",
       "  <thead>\n",
       "    <tr style=\"text-align: right;\">\n",
       "      <th></th>\n",
       "      <th>metadata</th>\n",
       "      <th>data</th>\n",
       "    </tr>\n",
       "  </thead>\n",
       "  <tbody>\n",
       "    <tr>\n",
       "      <th>timestamp</th>\n",
       "      <td>2.025061e+13</td>\n",
       "      <td>NaN</td>\n",
       "    </tr>\n",
       "    <tr>\n",
       "      <th>num_documents</th>\n",
       "      <td>9.900000e+01</td>\n",
       "      <td>NaN</td>\n",
       "    </tr>\n",
       "    <tr>\n",
       "      <th>topics</th>\n",
       "      <td>NaN</td>\n",
       "      <td>{'vectorizer': {'input': 'content', 'encoding'...</td>\n",
       "    </tr>\n",
       "    <tr>\n",
       "      <th>clusters</th>\n",
       "      <td>NaN</td>\n",
       "      <td>{'vectorizer': {'input': 'content', 'encoding'...</td>\n",
       "    </tr>\n",
       "    <tr>\n",
       "      <th>entities</th>\n",
       "      <td>NaN</td>\n",
       "      <td>{'PERSON': [['Jeff Dasovich', 3], ['Gary', 3],...</td>\n",
       "    </tr>\n",
       "  </tbody>\n",
       "</table>\n",
       "</div>"
      ]
     },
     "execution_count": 7,
     "metadata": {},
     "output_type": "execute_result"
    }
   ],
   "execution_count": 7
  },
  {
   "metadata": {
    "ExecuteTime": {
     "end_time": "2025-06-11T11:56:46.902720Z",
     "start_time": "2025-06-11T11:56:46.901379Z"
    }
   },
   "cell_type": "code",
   "source": "",
   "id": "e1d6256c60e6e7b2",
   "outputs": [],
   "execution_count": null
  }
 ],
 "metadata": {
  "kernelspec": {
   "display_name": "Python 3",
   "language": "python",
   "name": "python3"
  },
  "language_info": {
   "codemirror_mode": {
    "name": "ipython",
    "version": 2
   },
   "file_extension": ".py",
   "mimetype": "text/x-python",
   "name": "python",
   "nbconvert_exporter": "python",
   "pygments_lexer": "ipython2",
   "version": "2.7.6"
  }
 },
 "nbformat": 4,
 "nbformat_minor": 5
}
